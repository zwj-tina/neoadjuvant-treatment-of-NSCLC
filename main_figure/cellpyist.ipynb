{
 "cells": [
  {
   "cell_type": "code",
   "execution_count": 52,
   "id": "aa184015",
   "metadata": {
    "scrolled": true
   },
   "outputs": [],
   "source": [
    "import scanpy as sc\n",
    "import celltypist\n",
    "import time\n",
    "import numpy as np"
   ]
  },
  {
   "cell_type": "code",
   "execution_count": 67,
   "id": "e33ca71e",
   "metadata": {},
   "outputs": [
    {
     "data": {
      "text/plain": [
       "AnnData object with n_obs × n_vars = 3756 × 33538\n",
       "    obs: 'sampleID', 'patientID', 'n_genes_by_counts', 'total_counts', 'total_counts_mt', 'pct_counts_mt', 'TCR_type'\n",
       "    var: 'mt', 'n_cells_by_counts', 'mean_counts', 'pct_dropout_by_counts', 'total_counts'"
      ]
     },
     "execution_count": 67,
     "metadata": {},
     "output_type": "execute_result"
    }
   ],
   "source": [
    "adata_Elmentaite = sc.read_h5ad(\"training.h5ad\")\n",
    "adata_Elmentaite"
   ]
  },
  {
   "cell_type": "code",
   "execution_count": 68,
   "id": "347deb11",
   "metadata": {},
   "outputs": [],
   "source": [
    "sc.pp.normalize_total(adata_Elmentaite, target_sum = 1e4)\n",
    "sc.pp.log1p(adata_Elmentaite)"
   ]
  },
  {
   "cell_type": "code",
   "execution_count": 69,
   "id": "b4df283b",
   "metadata": {},
   "outputs": [],
   "source": [
    "# Sample 500 cells from each cell type for `adata_Elmentaite`.\n",
    "# All cells from a given cell type will be selected if the cell type size is < 500.\n",
    "sampled_cell_index = celltypist.samples.downsample_adata(adata_Elmentaite, mode = 'each', n_cells = 500, by = 'sub_cell_type', return_index = True)"
   ]
  },
  {
   "cell_type": "code",
   "execution_count": 70,
   "id": "ae58fc98",
   "metadata": {},
   "outputs": [
    {
     "name": "stderr",
     "output_type": "stream",
     "text": [
      "🍳 Preparing data before training\n",
      "✂️ 18295 non-expressed genes are filtered out\n",
      "🔬 Input data has 1000 cells and 15243 genes\n",
      "⚖️ Scaling input data\n",
      "🏋️ Training data using SGD logistic regression\n",
      "✅ Model training done!\n"
     ]
    },
    {
     "name": "stdout",
     "output_type": "stream",
     "text": [
      "Time elapsed: 0.6984186172485352 seconds\n"
     ]
    }
   ],
   "source": [
    "# Use `celltypist.train` to quickly train a rough CellTypist model.\n",
    "# You can also set `mini_batch = True` to enable mini-batch training.\n",
    "t_start = time.time()\n",
    "model_fs = celltypist.train(adata_Elmentaite[sampled_cell_index], 'sub_cell_type', n_jobs = 10, max_iter = 5, use_SGD = True)\n",
    "t_end = time.time()\n",
    "print(f\"Time elapsed: {t_end - t_start} seconds\")"
   ]
  },
  {
   "cell_type": "code",
   "execution_count": 71,
   "id": "903d5396",
   "metadata": {},
   "outputs": [],
   "source": [
    "gene_index = np.argpartition(np.abs(model_fs.classifier.coef_), -100, axis = 1)[:, -100:]"
   ]
  },
  {
   "cell_type": "code",
   "execution_count": 72,
   "id": "f2b7e210",
   "metadata": {},
   "outputs": [],
   "source": [
    "gene_index = np.unique(gene_index)"
   ]
  },
  {
   "cell_type": "code",
   "execution_count": 73,
   "id": "65b67b67",
   "metadata": {},
   "outputs": [
    {
     "name": "stdout",
     "output_type": "stream",
     "text": [
      "Number of genes selected: 100\n"
     ]
    }
   ],
   "source": [
    "print(f\"Number of genes selected: {len(gene_index)}\")"
   ]
  },
  {
   "cell_type": "code",
   "execution_count": 74,
   "id": "baf60e1f",
   "metadata": {
    "scrolled": true
   },
   "outputs": [
    {
     "name": "stderr",
     "output_type": "stream",
     "text": [
      "🍳 Preparing data before training\n",
      "✂️ 48 non-expressed genes are filtered out\n",
      "🔬 Input data has 1000 cells and 52 genes\n",
      "⚖️ Scaling input data\n",
      "🏋️ Training data using logistic regression\n",
      "✅ Model training done!\n"
     ]
    },
    {
     "name": "stdout",
     "output_type": "stream",
     "text": [
      "Time elapsed: 0.021984867254892983 minutes\n"
     ]
    }
   ],
   "source": [
    "# Add `check_expression = False` to bypass expression check with only a subset of genes.\n",
    "t_start = time.time()\n",
    "model = celltypist.train(adata_Elmentaite[sampled_cell_index, gene_index], 'TCR_type', check_expression = False, n_jobs = 10, max_iter = 100)\n",
    "t_end = time.time()\n",
    "print(f\"Time elapsed: {(t_end - t_start)/60} minutes\")"
   ]
  },
  {
   "cell_type": "code",
   "execution_count": 75,
   "id": "c4ef386e",
   "metadata": {},
   "outputs": [],
   "source": [
    "# Save the model.\n",
    "model.write('model_from_Elmentaite_specific.pkl')"
   ]
  },
  {
   "cell_type": "code",
   "execution_count": null,
   "id": "426952f5",
   "metadata": {},
   "outputs": [],
   "source": []
  },
  {
   "cell_type": "code",
   "execution_count": null,
   "id": "0c33f53f",
   "metadata": {},
   "outputs": [],
   "source": []
  },
  {
   "cell_type": "code",
   "execution_count": 76,
   "id": "7b3f1e54",
   "metadata": {
    "scrolled": false
   },
   "outputs": [
    {
     "data": {
      "text/plain": [
       "AnnData object with n_obs × n_vars = 144162 × 31831\n",
       "    obs: 'sampleID', 'cellID', 'n_genes', 'n_genes_by_counts', 'total_counts', 'total_counts_mt', 'pct_counts_mt', 'sub_cell_type', 'major_cell_type'\n",
       "    var: 'n_cells', 'mt', 'n_cells_by_counts', 'mean_counts', 'pct_dropout_by_counts', 'total_counts'"
      ]
     },
     "execution_count": 76,
     "metadata": {},
     "output_type": "execute_result"
    }
   ],
   "source": [
    "adata_James = sc.read_h5ad('predict.h5ad')\n",
    "adata_James"
   ]
  },
  {
   "cell_type": "code",
   "execution_count": 77,
   "id": "faf5b1cc",
   "metadata": {},
   "outputs": [],
   "source": [
    "sc.pp.normalize_total(adata_James, target_sum = 1e4)\n",
    "sc.pp.log1p(adata_James)"
   ]
  },
  {
   "cell_type": "code",
   "execution_count": 78,
   "id": "f9ad7b73",
   "metadata": {
    "scrolled": true
   },
   "outputs": [
    {
     "name": "stderr",
     "output_type": "stream",
     "text": [
      "🔬 Input data has 144162 cells and 31831 genes\n",
      "🔗 Matching reference genes in the model\n",
      "🧬 52 features used for prediction\n",
      "⚖️ Scaling input data\n",
      "🖋️ Predicting labels\n",
      "✅ Prediction done!\n",
      "👀 Can not detect a neighborhood graph, will construct one before the over-clustering\n",
      "⛓️ Over-clustering input data with resolution set to 25\n",
      "🗳️ Majority voting the predictions\n",
      "✅ Majority voting done!\n"
     ]
    },
    {
     "name": "stdout",
     "output_type": "stream",
     "text": [
      "Time elapsed: 335.8447313308716 seconds\n"
     ]
    }
   ],
   "source": [
    "# CellTypist prediction with over-clustering and majority-voting.\n",
    "t_start = time.time()\n",
    "predictions = celltypist.annotate(adata_James, model = 'model_from_Elmentaite_specific.pkl', majority_voting = True)\n",
    "t_end = time.time()\n",
    "print(f\"Time elapsed: {t_end - t_start} seconds\")"
   ]
  },
  {
   "cell_type": "code",
   "execution_count": 79,
   "id": "2b4dbc7a",
   "metadata": {},
   "outputs": [
    {
     "data": {
      "text/html": [
       "<div>\n",
       "<style scoped>\n",
       "    .dataframe tbody tr th:only-of-type {\n",
       "        vertical-align: middle;\n",
       "    }\n",
       "\n",
       "    .dataframe tbody tr th {\n",
       "        vertical-align: top;\n",
       "    }\n",
       "\n",
       "    .dataframe thead th {\n",
       "        text-align: right;\n",
       "    }\n",
       "</style>\n",
       "<table border=\"1\" class=\"dataframe\">\n",
       "  <thead>\n",
       "    <tr style=\"text-align: right;\">\n",
       "      <th></th>\n",
       "      <th>predicted_labels</th>\n",
       "      <th>over_clustering</th>\n",
       "      <th>majority_voting</th>\n",
       "    </tr>\n",
       "  </thead>\n",
       "  <tbody>\n",
       "    <tr>\n",
       "      <th>P304_ACGAGCCGTGTGCCTG_1</th>\n",
       "      <td>MANA specific</td>\n",
       "      <td>117</td>\n",
       "      <td>MANA specific</td>\n",
       "    </tr>\n",
       "    <tr>\n",
       "      <th>P64_TACTTACCAGGTCTCG_1</th>\n",
       "      <td>MANA specific</td>\n",
       "      <td>307</td>\n",
       "      <td>Viral specific</td>\n",
       "    </tr>\n",
       "    <tr>\n",
       "      <th>P481_GTGCATAGTAAATGAC_1</th>\n",
       "      <td>Viral specific</td>\n",
       "      <td>42</td>\n",
       "      <td>MANA specific</td>\n",
       "    </tr>\n",
       "    <tr>\n",
       "      <th>P435_CGATCGGGTTATCGGT_1</th>\n",
       "      <td>MANA specific</td>\n",
       "      <td>15</td>\n",
       "      <td>MANA specific</td>\n",
       "    </tr>\n",
       "    <tr>\n",
       "      <th>P182_GTGCGGTTCCAACCAA_1</th>\n",
       "      <td>Viral specific</td>\n",
       "      <td>6</td>\n",
       "      <td>MANA specific</td>\n",
       "    </tr>\n",
       "    <tr>\n",
       "      <th>...</th>\n",
       "      <td>...</td>\n",
       "      <td>...</td>\n",
       "      <td>...</td>\n",
       "    </tr>\n",
       "    <tr>\n",
       "      <th>P469_GGTGTTATCAGGCAAG_1</th>\n",
       "      <td>MANA specific</td>\n",
       "      <td>309</td>\n",
       "      <td>MANA specific</td>\n",
       "    </tr>\n",
       "    <tr>\n",
       "      <th>P454_GGGTCTGCAGACGTAG_1</th>\n",
       "      <td>Viral specific</td>\n",
       "      <td>41</td>\n",
       "      <td>Viral specific</td>\n",
       "    </tr>\n",
       "    <tr>\n",
       "      <th>P53_ACTGCTCTCCAGATCA_1</th>\n",
       "      <td>Viral specific</td>\n",
       "      <td>155</td>\n",
       "      <td>Viral specific</td>\n",
       "    </tr>\n",
       "    <tr>\n",
       "      <th>P44_CTGATAGGTTCGTCTC_1</th>\n",
       "      <td>MANA specific</td>\n",
       "      <td>1</td>\n",
       "      <td>MANA specific</td>\n",
       "    </tr>\n",
       "    <tr>\n",
       "      <th>P45_GCTCCTACACAGGTTT_1</th>\n",
       "      <td>Viral specific</td>\n",
       "      <td>66</td>\n",
       "      <td>MANA specific</td>\n",
       "    </tr>\n",
       "  </tbody>\n",
       "</table>\n",
       "<p>144162 rows × 3 columns</p>\n",
       "</div>"
      ],
      "text/plain": [
       "                        predicted_labels over_clustering majority_voting\n",
       "P304_ACGAGCCGTGTGCCTG_1    MANA specific             117   MANA specific\n",
       "P64_TACTTACCAGGTCTCG_1     MANA specific             307  Viral specific\n",
       "P481_GTGCATAGTAAATGAC_1   Viral specific              42   MANA specific\n",
       "P435_CGATCGGGTTATCGGT_1    MANA specific              15   MANA specific\n",
       "P182_GTGCGGTTCCAACCAA_1   Viral specific               6   MANA specific\n",
       "...                                  ...             ...             ...\n",
       "P469_GGTGTTATCAGGCAAG_1    MANA specific             309   MANA specific\n",
       "P454_GGGTCTGCAGACGTAG_1   Viral specific              41  Viral specific\n",
       "P53_ACTGCTCTCCAGATCA_1    Viral specific             155  Viral specific\n",
       "P44_CTGATAGGTTCGTCTC_1     MANA specific               1   MANA specific\n",
       "P45_GCTCCTACACAGGTTT_1    Viral specific              66   MANA specific\n",
       "\n",
       "[144162 rows x 3 columns]"
      ]
     },
     "execution_count": 79,
     "metadata": {},
     "output_type": "execute_result"
    }
   ],
   "source": [
    "predictions.predicted_labels"
   ]
  },
  {
   "cell_type": "code",
   "execution_count": null,
   "id": "f7c3b5b1",
   "metadata": {},
   "outputs": [],
   "source": []
  }
 ],
 "metadata": {
  "kernelspec": {
   "display_name": "Python 3 (ipykernel)",
   "language": "python",
   "name": "python3"
  },
  "language_info": {
   "codemirror_mode": {
    "name": "ipython",
    "version": 3
   },
   "file_extension": ".py",
   "mimetype": "text/x-python",
   "name": "python",
   "nbconvert_exporter": "python",
   "pygments_lexer": "ipython3",
   "version": "3.9.11"
  }
 },
 "nbformat": 4,
 "nbformat_minor": 5
}
